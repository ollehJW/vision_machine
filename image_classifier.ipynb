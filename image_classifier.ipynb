{
 "cells": [
  {
   "cell_type": "markdown",
   "metadata": {},
   "source": [
    "## 1. 사용할 패키지 불러오기"
   ]
  },
  {
   "cell_type": "code",
   "execution_count": null,
   "metadata": {},
   "outputs": [],
   "source": [
    "import os\n",
    "import numpy as np\n",
    "import pandas as pd\n",
    "from data_gen.data_gen import dataset_generator\n",
    "from model.loss_factory import LossFactory\n",
    "from model.model_factory import ModelFactory\n",
    "from torch.optim import Adam\n",
    "from torch.nn import CrossEntropyLoss\n",
    "from model.trainer_factory import SupervisedTraining\n",
    "from inference.tester import Tester\n",
    "import torch"
   ]
  },
  {
   "cell_type": "markdown",
   "metadata": {},
   "source": [
    "## 2. Arguments 정의"
   ]
  },
  {
   "cell_type": "markdown",
   "metadata": {},
   "source": [
    "#### (1) 경로 Parameter\n",
    "\n",
    "- train_data_dir: 학습 데이터 경로\n",
    "- test_data_dir: 테스트 데이터 경로\n",
    "- save_model_path: 학습된 모델 저장 경로\n",
    "- inference_result_path: 실험 결과 저장 경로\n",
    "\n",
    "#### (2) 학습 Parameter\n",
    "- model_structure: 사용할 모델 (vgg16, resnet50, mobilenet_v2)\n",
    "- epochs: 학습 Epoch\n",
    "- batch_size: 배치 사이즈\n",
    "- learning_rate: 학습률\n",
    "- weight_decay: 학습 weight decay"
   ]
  },
  {
   "cell_type": "code",
   "execution_count": null,
   "metadata": {},
   "outputs": [],
   "source": [
    "train_data_dir = \"./data/example/cat_dog_classify/train\"\n",
    "test_data_dir = \"./data/example/cat_dog_classify/test\"\n",
    "save_model_path = \"./experiment/saved_model/\"\n",
    "inference_result_path = \"./experiment/result/\"\n",
    "\n",
    "model_structure = 'resnet50'\n",
    "epochs = 100\n",
    "batch_size = 16\n",
    "learning_rate = 0.001\n",
    "weight_decay = 1e-6\n",
    "\n",
    "os.makedirs(save_model_path, exist_ok=True)\n",
    "os.makedirs(inference_result_path, exist_ok=True)"
   ]
  },
  {
   "cell_type": "markdown",
   "metadata": {},
   "source": [
    "## 3. Dataset 구성"
   ]
  },
  {
   "cell_type": "markdown",
   "metadata": {},
   "source": [
    "### (1) File 리스트 불러오기"
   ]
  },
  {
   "cell_type": "code",
   "execution_count": null,
   "metadata": {},
   "outputs": [],
   "source": [
    "def prepare_data(data_path):\n",
    "    \"\"\"\n",
    "    Extract file names with target class\n",
    "\n",
    "    Parameters\n",
    "    ----------\n",
    "    train_path : str\n",
    "        train data path (csv or folders with class name)\n",
    "    remove_filename_list : list\n",
    "        file names which should be removed.\n",
    "\n",
    "    Returns\n",
    "    --------\n",
    "    file names, unique label names, target class\n",
    "    \"\"\"\n",
    "\n",
    "    files = []\n",
    "    for ty in os.listdir(data_path):\n",
    "        filelist = os.listdir(os.path.join(data_path, ty))\n",
    "        for i, file in enumerate(filelist):\n",
    "            files.append(os.path.join(data_path, ty, file))\n",
    "\n",
    "    labels = [file.split('/')[-2] for file in files]\n",
    "\n",
    "    uni_label = np.unique(labels)\n",
    "    print(\"There are {} classes: {}\".format(len(uni_label), uni_label))\n",
    "    y = np.array([np.eye(len(uni_label))[np.where(uni_label==label)].reshape(-1) for label in labels])\n",
    "\n",
    "    return files, uni_label, y\n"
   ]
  },
  {
   "cell_type": "code",
   "execution_count": null,
   "metadata": {},
   "outputs": [],
   "source": [
    "train_file_list, uni_label, train_target_list = prepare_data(data_path = train_data_dir)\n",
    "test_file_list, uni_label, test_target_list = prepare_data(data_path = test_data_dir)"
   ]
  },
  {
   "cell_type": "markdown",
   "metadata": {},
   "source": [
    "### (2) DataLoader 생성"
   ]
  },
  {
   "cell_type": "code",
   "execution_count": null,
   "metadata": {},
   "outputs": [],
   "source": [
    "train_dataset_generator = dataset_generator(train_file_list, train_target_list, batch_size=batch_size, phase= 'train', train_valid_split = False)\n",
    "train_dataloader = train_dataset_generator.dataloader()\n",
    "\n",
    "test_dataset_generator = dataset_generator(test_file_list, test_target_list, batch_size=batch_size, phase= 'test', train_valid_split = False)\n",
    "test_dataloader = test_dataset_generator.dataloader()"
   ]
  },
  {
   "cell_type": "markdown",
   "metadata": {},
   "source": [
    "## 4. Model 생성"
   ]
  },
  {
   "cell_type": "code",
   "execution_count": null,
   "metadata": {},
   "outputs": [],
   "source": [
    "vision_model = ModelFactory(model_name=model_structure,\n",
    "                                   pretrained=True,\n",
    "                                   class_num=len(uni_label))"
   ]
  },
  {
   "cell_type": "code",
   "execution_count": null,
   "metadata": {},
   "outputs": [],
   "source": [
    "# get loss function from LossFactory\n",
    "loss_fn = CrossEntropyLoss()\n",
    "\n",
    "# get optimizer from OptimizerFactory\n",
    "optimizer = Adam(params = vision_model.parameters(),\n",
    "                 lr=learning_rate,\n",
    "                 weight_decay = weight_decay)"
   ]
  },
  {
   "cell_type": "markdown",
   "metadata": {},
   "source": [
    "## 5. 학습"
   ]
  },
  {
   "cell_type": "code",
   "execution_count": null,
   "metadata": {},
   "outputs": [],
   "source": [
    "# get trainer from trainer_factory\n",
    "trainer = SupervisedTraining(epoch=epochs,\n",
    "                             result_model_path=save_model_path)\n",
    "\n",
    "# train\n",
    "trainer.train(vision_model, train_dataloader['train'], test_dataloader['test'], loss_fn, optimizer, gpu=True)"
   ]
  },
  {
   "cell_type": "markdown",
   "metadata": {},
   "source": [
    "## 6. Test Inference"
   ]
  },
  {
   "cell_type": "markdown",
   "metadata": {},
   "source": [
    "### (1) Best model 불러오기"
   ]
  },
  {
   "cell_type": "code",
   "execution_count": null,
   "metadata": {},
   "outputs": [],
   "source": [
    "load_model_path = os.path.join(save_model_path, 'Best_model.pth')\n",
    "vision_model.load_state_dict(torch.load(load_model_path))"
   ]
  },
  {
   "cell_type": "markdown",
   "metadata": {},
   "source": [
    "### (2) Inference 결과 저장하기"
   ]
  },
  {
   "cell_type": "code",
   "execution_count": null,
   "metadata": {},
   "outputs": [],
   "source": [
    "tester = Tester(model = vision_model, test_data_gen = test_dataloader['test'])\n",
    "prediction = tester.inference(gpu = True)\n",
    "tester.make_csv_report(test_file_list, prediction, test_target_list, inference_result_path)\n",
    "tester.plot_confusion_matrix(test_target_list, prediction, inference_result_path)"
   ]
  },
  {
   "cell_type": "code",
   "execution_count": null,
   "metadata": {},
   "outputs": [],
   "source": []
  }
 ],
 "metadata": {
  "interpreter": {
   "hash": "e7979a872e3316bafee4c0cf1691cb4d3290f17a71781703ef47e9f64f7c0716"
  },
  "kernelspec": {
   "display_name": "Python 3.8.12 ('torch_vision38')",
   "language": "python",
   "name": "python3"
  },
  "language_info": {
   "codemirror_mode": {
    "name": "ipython",
    "version": 3
   },
   "file_extension": ".py",
   "mimetype": "text/x-python",
   "name": "python",
   "nbconvert_exporter": "python",
   "pygments_lexer": "ipython3",
   "version": "3.8.12"
  },
  "orig_nbformat": 4
 },
 "nbformat": 4,
 "nbformat_minor": 2
}
